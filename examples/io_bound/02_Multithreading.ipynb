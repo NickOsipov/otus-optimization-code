{
 "cells": [
  {
   "cell_type": "code",
   "execution_count": null,
   "metadata": {},
   "outputs": [],
   "source": [
    "from tqdm import tqdm\n",
    "import requests\n",
    "from concurrent.futures import ThreadPoolExecutor, as_completed"
   ]
  },
  {
   "cell_type": "code",
   "execution_count": null,
   "metadata": {},
   "outputs": [],
   "source": [
    "def fetch_data(session: requests.Session, url: str):\n",
    "    return session.get(url).json()"
   ]
  },
  {
   "cell_type": "code",
   "execution_count": null,
   "metadata": {},
   "outputs": [],
   "source": [
    "url = 'http://localhost:5002'\n",
    "res = []"
   ]
  },
  {
   "cell_type": "code",
   "execution_count": null,
   "metadata": {},
   "outputs": [
    {
     "name": "stderr",
     "output_type": "stream",
     "text": [
      " 71%|███████▏  | 17623/24704 [01:15<00:30, 232.34it/s]\n"
     ]
    }
   ],
   "source": [
    "# %%time\n",
    "\n",
    "# Создаем сессию для повторного использования соединений HTTP\n",
    "with requests.Session() as session:\n",
    "\n",
    "    # Отправляем GET-запрос к URL '/total' и получаем общее количество элементов для обработки\n",
    "    total = session.get(url + '/total').json()['total']\n",
    "\n",
    "    # Создаем пул потоков для многопоточной обработки запросов\n",
    "    with ThreadPoolExecutor(max_workers=None) as pool:\n",
    "        # Создаем генератор задач (futures), которые будут выполняться в пуле потоков\n",
    "        # Каждая задача вызывает функцию fetch_data с аргументами session и URL для конкретного индекса\n",
    "        futures = (pool.submit(fetch_data, session, f'{url}/texts/{index}') for index in range(total))\n",
    "\n",
    "        # as_completed возвращает завершенные задачи по мере их завершения\n",
    "        for future in tqdm(as_completed(futures), total=total):\n",
    "            res.append(future.result())\n",
    "            # Получаем результат выполнения задачи и добавляем его в список res"
   ]
  }
 ],
 "metadata": {
  "kernelspec": {
   "display_name": ".venv",
   "language": "python",
   "name": "python3"
  },
  "language_info": {
   "codemirror_mode": {
    "name": "ipython",
    "version": 3
   },
   "file_extension": ".py",
   "mimetype": "text/x-python",
   "name": "python",
   "nbconvert_exporter": "python",
   "pygments_lexer": "ipython3",
   "version": "3.11.7"
  }
 },
 "nbformat": 4,
 "nbformat_minor": 2
}

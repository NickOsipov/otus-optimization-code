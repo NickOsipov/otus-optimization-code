{
 "cells": [
  {
   "cell_type": "markdown",
   "metadata": {},
   "source": [
    "# Polars"
   ]
  },
  {
   "cell_type": "code",
   "execution_count": 1,
   "metadata": {},
   "outputs": [],
   "source": [
    "import numpy as np\n",
    "import pandas as pd\n",
    "import polars as pl\n",
    "import time"
   ]
  },
  {
   "cell_type": "code",
   "execution_count": 2,
   "metadata": {},
   "outputs": [],
   "source": [
    "# Генерация синтетических данных\n",
    "n = 100_000_000  # 100 миллионов строк\n",
    "columns = [\"A\", \"B\", \"C\", \"D\"]\n",
    "data = {col: np.random.randn(n) for col in columns}"
   ]
  },
  {
   "cell_type": "code",
   "execution_count": 3,
   "metadata": {},
   "outputs": [
    {
     "name": "stdout",
     "output_type": "stream",
     "text": [
      "Pandas DataFrame creation time: 1.56 seconds\n",
      "Polars DataFrame creation time: 0.02 seconds\n"
     ]
    }
   ],
   "source": [
    "# Конвертация в pandas DataFrame\n",
    "start = time.time()\n",
    "pdf = pd.DataFrame(data)\n",
    "pandas_creation_time = time.time() - start\n",
    "print(f\"Pandas DataFrame creation time: {pandas_creation_time:.2f} seconds\")\n",
    "\n",
    "# Конвертация в Polars DataFrame\n",
    "start = time.time()\n",
    "pldf = pl.DataFrame(data)\n",
    "polars_creation_time = time.time() - start\n",
    "print(f\"Polars DataFrame creation time: {polars_creation_time:.2f} seconds\")"
   ]
  },
  {
   "cell_type": "code",
   "execution_count": 5,
   "metadata": {},
   "outputs": [
    {
     "name": "stdout",
     "output_type": "stream",
     "text": [
      "Pandas filter time: 2.49 seconds\n",
      "Polars filter time: 1.68 seconds\n"
     ]
    }
   ],
   "source": [
    "# Фильтрация данных\n",
    "start = time.time()\n",
    "pdf_filtered = pdf[(pdf[\"A\"] > 0) & (pdf[\"B\"] < 0)]\n",
    "pandas_filter_time = time.time() - start\n",
    "print(f\"Pandas filter time: {pandas_filter_time:.2f} seconds\")\n",
    "\n",
    "start = time.time()\n",
    "pldf_filtered = pldf.filter((pl.col(\"A\") > 0) & (pl.col(\"B\") < 0))\n",
    "polars_filter_time = time.time() - start\n",
    "print(f\"Polars filter time: {polars_filter_time:.2f} seconds\")"
   ]
  },
  {
   "cell_type": "code",
   "execution_count": 6,
   "metadata": {},
   "outputs": [
    {
     "name": "stdout",
     "output_type": "stream",
     "text": [
      "Pandas group time: 255.29 seconds\n",
      "Polars group time: 16.89 seconds\n"
     ]
    }
   ],
   "source": [
    "# Группировка и агрегация\n",
    "start = time.time()\n",
    "pdf_grouped = pdf.groupby(\"A\").agg({\"B\": \"mean\", \"C\": \"sum\", \"D\": \"count\"})\n",
    "pandas_group_time = time.time() - start\n",
    "print(f\"Pandas group time: {pandas_group_time:.2f} seconds\")\n",
    "\n",
    "start = time.time()\n",
    "pldf_grouped = pldf.group_by(\"A\").agg([pl.col(\"B\").mean(), pl.col(\"C\").sum(), pl.col(\"D\").count()])\n",
    "polars_group_time = time.time() - start\n",
    "print(f\"Polars group time: {polars_group_time:.2f} seconds\")"
   ]
  }
 ],
 "metadata": {
  "kernelspec": {
   "display_name": ".venv (3.8.10)",
   "language": "python",
   "name": "python3"
  },
  "language_info": {
   "codemirror_mode": {
    "name": "ipython",
    "version": 3
   },
   "file_extension": ".py",
   "mimetype": "text/x-python",
   "name": "python",
   "nbconvert_exporter": "python",
   "pygments_lexer": "ipython3",
   "version": "3.8.10"
  }
 },
 "nbformat": 4,
 "nbformat_minor": 2
}

{
 "cells": [
  {
   "cell_type": "markdown",
   "metadata": {},
   "source": [
    "# Polars"
   ]
  },
  {
   "cell_type": "code",
   "execution_count": 1,
   "metadata": {},
   "outputs": [],
   "source": [
    "import numpy as np\n",
    "import pandas as pd\n",
    "import polars as pl\n",
    "import time"
   ]
  },
  {
   "cell_type": "code",
   "execution_count": 5,
   "metadata": {},
   "outputs": [],
   "source": [
    "# Генерация синтетических данных\n",
    "n = 100_000_00  # 100 миллионов строк\n",
    "columns = [\"A\", \"B\", \"C\", \"D\"]\n",
    "data = {col: np.random.randn(n) for col in columns}"
   ]
  },
  {
   "cell_type": "code",
   "execution_count": 6,
   "metadata": {},
   "outputs": [
    {
     "name": "stdout",
     "output_type": "stream",
     "text": [
      "Pandas DataFrame creation time: 0.09 seconds\n",
      "Polars DataFrame creation time: 0.01 seconds\n"
     ]
    }
   ],
   "source": [
    "# Конвертация в pandas DataFrame\n",
    "start = time.time()\n",
    "pdf = pd.DataFrame(data)\n",
    "pandas_creation_time = time.time() - start\n",
    "print(f\"Pandas DataFrame creation time: {pandas_creation_time:.2f} seconds\")\n",
    "\n",
    "# Конвертация в Polars DataFrame\n",
    "start = time.time()\n",
    "pldf = pl.DataFrame(data)\n",
    "polars_creation_time = time.time() - start\n",
    "print(f\"Polars DataFrame creation time: {polars_creation_time:.2f} seconds\")"
   ]
  },
  {
   "cell_type": "code",
   "execution_count": 7,
   "metadata": {},
   "outputs": [
    {
     "name": "stdout",
     "output_type": "stream",
     "text": [
      "Pandas filter time: 0.12 seconds\n",
      "Polars filter time: 0.14 seconds\n"
     ]
    }
   ],
   "source": [
    "# Фильтрация данных\n",
    "start = time.time()\n",
    "pdf_filtered = pdf[(pdf[\"A\"] > 0) & (pdf[\"B\"] < 0)]\n",
    "pandas_filter_time = time.time() - start\n",
    "print(f\"Pandas filter time: {pandas_filter_time:.2f} seconds\")\n",
    "\n",
    "start = time.time()\n",
    "pldf_filtered = pldf.filter((pl.col(\"A\") > 0) & (pl.col(\"B\") < 0))\n",
    "polars_filter_time = time.time() - start\n",
    "print(f\"Polars filter time: {polars_filter_time:.2f} seconds\")"
   ]
  },
  {
   "cell_type": "code",
   "execution_count": 8,
   "metadata": {},
   "outputs": [
    {
     "name": "stdout",
     "output_type": "stream",
     "text": [
      "Pandas group time: 7.23 seconds\n",
      "Polars group time: 0.76 seconds\n"
     ]
    }
   ],
   "source": [
    "# Группировка и агрегация\n",
    "start = time.time()\n",
    "pdf_grouped = pdf.groupby(\"A\").agg({\"B\": \"mean\", \"C\": \"sum\", \"D\": \"count\"})\n",
    "pandas_group_time = time.time() - start\n",
    "print(f\"Pandas group time: {pandas_group_time:.2f} seconds\")\n",
    "\n",
    "start = time.time()\n",
    "pldf_grouped = pldf.group_by(\"A\").agg([pl.col(\"B\").mean(), pl.col(\"C\").sum(), pl.col(\"D\").count()])\n",
    "polars_group_time = time.time() - start\n",
    "print(f\"Polars group time: {polars_group_time:.2f} seconds\")"
   ]
  }
 ],
 "metadata": {
  "kernelspec": {
   "display_name": ".venv (3.11.11)",
   "language": "python",
   "name": "python3"
  },
  "language_info": {
   "codemirror_mode": {
    "name": "ipython",
    "version": 3
   },
   "file_extension": ".py",
   "mimetype": "text/x-python",
   "name": "python",
   "nbconvert_exporter": "python",
   "pygments_lexer": "ipython3",
   "version": "3.11.11"
  }
 },
 "nbformat": 4,
 "nbformat_minor": 2
}

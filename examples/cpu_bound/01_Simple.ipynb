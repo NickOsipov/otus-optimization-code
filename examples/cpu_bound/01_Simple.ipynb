{
 "cells": [
  {
   "cell_type": "code",
   "execution_count": 5,
   "metadata": {},
   "outputs": [],
   "source": [
    "import pandas as pd\n",
    "\n",
    "from workload import process_text\n",
    "from workload_cache import process_text as process_text_cached"
   ]
  },
  {
   "cell_type": "code",
   "execution_count": 6,
   "metadata": {},
   "outputs": [],
   "source": [
    "df = pd.read_csv('../data/reviews.csv')\n",
    "df = df.iloc[:300]"
   ]
  },
  {
   "cell_type": "code",
   "execution_count": 7,
   "metadata": {},
   "outputs": [
    {
     "data": {
      "text/plain": [
       "0      Нашумевший кинохит Анаконда не мог остаться в ...\n",
       "1      Фильм об истории человека, который имеет все, ...\n",
       "2      Мне все говорили 'фильм фигня', 'фильм не опра...\n",
       "3      Итак, перед нами творение итальянского режиссе...\n",
       "4      Одиннадцатый сезон\\n\\nЧто происходит после зав...\n",
       "                             ...                        \n",
       "295    Даже не знаю, что и сказать. Трудно определить...\n",
       "296    Очень интересную идею воплатил в жизнь Гор Вер...\n",
       "297    Фильм с самых первых шагов вызвал большое коли...\n",
       "298    «Холодный фронт» - первый полнометражный фильм...\n",
       "299    Столкнувшись с мимолетными неприятностями,  гл...\n",
       "Name: review, Length: 300, dtype: object"
      ]
     },
     "execution_count": 7,
     "metadata": {},
     "output_type": "execute_result"
    }
   ],
   "source": [
    "df['review']"
   ]
  },
  {
   "cell_type": "code",
   "execution_count": 10,
   "metadata": {},
   "outputs": [
    {
     "name": "stdout",
     "output_type": "stream",
     "text": [
      "CPU times: user 22 s, sys: 7.96 ms, total: 22 s\n",
      "Wall time: 22.1 s\n"
     ]
    }
   ],
   "source": [
    "%%time\n",
    "res = df['review'].apply(process_text)"
   ]
  },
  {
   "cell_type": "code",
   "execution_count": 11,
   "metadata": {},
   "outputs": [
    {
     "name": "stdout",
     "output_type": "stream",
     "text": [
      "CPU times: user 13.5 s, sys: 8.07 ms, total: 13.5 s\n",
      "Wall time: 13.5 s\n"
     ]
    }
   ],
   "source": [
    "%%time\n",
    "res = df['review'].apply(process_text_cached)"
   ]
  }
 ],
 "metadata": {
  "kernelspec": {
   "display_name": ".venv",
   "language": "python",
   "name": "python3"
  },
  "language_info": {
   "codemirror_mode": {
    "name": "ipython",
    "version": 3
   },
   "file_extension": ".py",
   "mimetype": "text/x-python",
   "name": "python",
   "nbconvert_exporter": "python",
   "pygments_lexer": "ipython3",
   "version": "3.11.7"
  }
 },
 "nbformat": 4,
 "nbformat_minor": 2
}
